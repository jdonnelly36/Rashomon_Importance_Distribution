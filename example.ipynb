{
 "cells": [
  {
   "cell_type": "code",
   "execution_count": null,
   "metadata": {},
   "outputs": [],
   "source": [
    "from rashomon_importance_distribution import RashomonImportanceDistribution\n",
    "import pandas as pd\n",
    "\n",
    "# Prepare a binarized dataset, with the rightmost column containing labels\n",
    "df = pd.read_csv('./monk_1_example_data.csv')\n",
    "\n",
    "# Specify the mapping used to go from columns in the original dataset\n",
    "# to binarized columns\n",
    "mapping={\n",
    "    0: [0, 1, 2],\n",
    "    1: [3, 4, 5],\n",
    "    2: [6, 7],\n",
    "    3: [8, 9, 10],\n",
    "    4: [11, 12, 13, 14],\n",
    "    5: [15, 16]\n",
    "}"
   ]
  },
  {
   "cell_type": "code",
   "execution_count": null,
   "metadata": {},
   "outputs": [],
   "source": [
    "# Construct the Rashomon Importance Distribution for this dataset\n",
    "RID = RashomonImportanceDistribution(\n",
    "    input_df=df,\n",
    "    binning_map=mapping,\n",
    "    db=4, \n",
    "    lam=0.03, \n",
    "    eps=0.1,\n",
    "    vi_metric='sub_mr',\n",
    "    dataset_name='monk_1_demo',\n",
    "    n_resamples=10,\n",
    "    verbose=True,\n",
    "    max_par_for_gosdt=2\n",
    ")"
   ]
  },
  {
   "cell_type": "code",
   "execution_count": null,
   "metadata": {},
   "outputs": [],
   "source": [
    "# Compute the box and whiskers range for each variable\n",
    "for v in range(6):\n",
    "    print(f\"Variable {v} --------------\")\n",
    "    \n",
    "    # Get box and whiskers range for variable\n",
    "    print(\"Box and whiskers range:\", RID.bwr(v))"
   ]
  }
 ],
 "metadata": {
  "kernelspec": {
   "display_name": "RID_env_new",
   "language": "python",
   "name": "rid_env_new"
  },
  "language_info": {
   "codemirror_mode": {
    "name": "ipython",
    "version": 3
   },
   "file_extension": ".py",
   "mimetype": "text/x-python",
   "name": "python",
   "nbconvert_exporter": "python",
   "pygments_lexer": "ipython3",
   "version": "3.10.11"
  }
 },
 "nbformat": 4,
 "nbformat_minor": 2
}
